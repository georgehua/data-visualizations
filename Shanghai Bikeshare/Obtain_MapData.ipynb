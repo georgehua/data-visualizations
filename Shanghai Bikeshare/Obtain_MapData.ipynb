{
 "cells": [
  {
   "cell_type": "markdown",
   "metadata": {},
   "source": [
    "# 使用高德地图进行行政区域查询\n",
    "Search"
   ]
  },
  {
   "cell_type": "code",
   "execution_count": 1,
   "metadata": {},
   "outputs": [],
   "source": [
    "import requests\n",
    "import numpy as np\n",
    "import pandas as pd\n",
    "from pandas import DataFrame\n",
    "import json"
   ]
  },
  {
   "cell_type": "markdown",
   "metadata": {},
   "source": [
    "## 使用说明\n",
    "- 第一步，申请”Web服务API”密钥（Key）；\n",
    "- 第二步，拼接HTTP请求URL，第一步申请的Key需作为必填参数一同发送；\n",
    "- 第三步，接收HTTP请求返回的数据（JSON或XML格式），解析数据"
   ]
  },
  {
   "cell_type": "markdown",
   "metadata": {},
   "source": [
    "## 行政区域查询\n",
    "行政区域查询API服务地址：\n",
    "http://restapi.amap.com/v3/config/district?parameters <br>\n",
    "parameters代表的参数包括必填参数和可选参数。所有参数均使用和号字符(&)进行分隔<br>\n",
    "具体参数细节请参考网址http://lbs.amap.com/api/webservice/guide/api/district/"
   ]
  },
  {
   "cell_type": "code",
   "execution_count": 2,
   "metadata": {},
   "outputs": [],
   "source": [
    "#parameters设置\n",
    "server_url = 'http://restapi.amap.com/v3/config/district?'\n",
    "key = 'key=a5fd524a333711f11bc25418a5c7a558'\n",
    "subdistrict = 'subdistrict=1'\n",
    "extensions = 'extensions=all'"
   ]
  },
  {
   "cell_type": "code",
   "execution_count": 3,
   "metadata": {},
   "outputs": [],
   "source": [
    "def get_region(location):\n",
    "    url = server_url +  'keywords=' + str(location) + '&' + subdistrict + '&' + extensions +  '&' +  key\n",
    "    \n",
    "    r = requests.get(url)\n",
    "    temp_data = r.json()\n",
    "    # 获取各行政区的地区代码，因为名字有可能会与其他城市的区重名\n",
    "    adcode = []\n",
    "    name = []\n",
    "    for region in temp_data[\"districts\"][1][\"districts\"]:\n",
    "        adcode.append(region['adcode'])\n",
    "        name.append(region['name'])\n",
    "    \n",
    "    return {'adcode': adcode, 'name': name}"
   ]
  },
  {
   "cell_type": "code",
   "execution_count": 4,
   "metadata": {},
   "outputs": [],
   "source": [
    "def get_mapdata(location):\n",
    "    url = server_url +  'keywords=' + str(location) + '&' + subdistrict + '&' + extensions +  '&' +  key\n",
    "        \n",
    "    r = requests.get(url)\n",
    "    temp_data = r.json()\n",
    "    \n",
    "    # 获取各行政区边界经纬度数据\n",
    "    #polyline数据是一整个纯文本数据，不同的地理块按照|分，块里面的地理信息按照；分，横纵坐标按照，分。\n",
    "    longitude = []\n",
    "    latitude = []\n",
    "    join_seq = []\n",
    "\n",
    "    region_data = temp_data[\"districts\"][0]['polyline'].split('|')\n",
    "    join_n = 1\n",
    "    for per_data in region_data:\n",
    "        \n",
    "        point = per_data.split(';')\n",
    "        for position in point:\n",
    "            temp = position.split(',')\n",
    "            longitude.append(temp[0])\n",
    "            latitude.append(temp[1])\n",
    "            join_seq.append(join_n)\n",
    "            join_n = join_n + 1\n",
    "    \n",
    "    map_data = {'Longitude': longitude, 'Latitude': latitude, 'Seq': join_seq}\n",
    "    return map_data"
   ]
  },
  {
   "cell_type": "code",
   "execution_count": 5,
   "metadata": {
    "scrolled": true
   },
   "outputs": [],
   "source": [
    "local_info = get_region('上海')\n",
    "name = local_info['name']\n",
    "n = 0\n",
    "block_n = 1\n",
    "map_data = {}\n",
    "longitude = []\n",
    "latitude = []\n",
    "join_seq = []\n",
    "region = []\n",
    "block = []\n",
    "#frame = DataFrame({'Longitude': [0.0], 'Latitude': [0.0], 'seq': [0], 'name': ['0'], 'block': ['0']})\n",
    "for adcode in local_info['adcode']:\n",
    "    temp = get_mapdata(adcode)\n",
    "    length  = len(temp['Longitude'])\n",
    "    \n",
    "    longitude  = longitude + temp['Longitude']\n",
    "    latitude = latitude + temp['Latitude']\n",
    "    join_seq = join_seq + temp['Seq']\n",
    "    region  = region + length*[name[n]]\n",
    "    block = block + length*[str(block_n)]\n",
    "    \n",
    "    n = n + 1\n",
    "    block_n = block_n + 1\n",
    "    \n",
    "frame = DataFrame({'name': region, 'Longitude': longitude, 'Latitude': latitude, 'Seq': join_seq, 'block': block})"
   ]
  },
  {
   "cell_type": "code",
   "execution_count": 6,
   "metadata": {
    "scrolled": true
   },
   "outputs": [
    {
     "data": {
      "text/html": [
       "<div>\n",
       "<style scoped>\n",
       "    .dataframe tbody tr th:only-of-type {\n",
       "        vertical-align: middle;\n",
       "    }\n",
       "\n",
       "    .dataframe tbody tr th {\n",
       "        vertical-align: top;\n",
       "    }\n",
       "\n",
       "    .dataframe thead th {\n",
       "        text-align: right;\n",
       "    }\n",
       "</style>\n",
       "<table border=\"1\" class=\"dataframe\">\n",
       "  <thead>\n",
       "    <tr style=\"text-align: right;\">\n",
       "      <th></th>\n",
       "      <th>name</th>\n",
       "      <th>Longitude</th>\n",
       "      <th>Latitude</th>\n",
       "      <th>Seq</th>\n",
       "      <th>block</th>\n",
       "    </tr>\n",
       "  </thead>\n",
       "  <tbody>\n",
       "    <tr>\n",
       "      <th>7273</th>\n",
       "      <td>松江区</td>\n",
       "      <td>121.323858</td>\n",
       "      <td>31.162934</td>\n",
       "      <td>1</td>\n",
       "      <td>10</td>\n",
       "    </tr>\n",
       "    <tr>\n",
       "      <th>7274</th>\n",
       "      <td>松江区</td>\n",
       "      <td>121.323866</td>\n",
       "      <td>31.162833</td>\n",
       "      <td>2</td>\n",
       "      <td>10</td>\n",
       "    </tr>\n",
       "    <tr>\n",
       "      <th>7275</th>\n",
       "      <td>松江区</td>\n",
       "      <td>121.324346</td>\n",
       "      <td>31.162351</td>\n",
       "      <td>3</td>\n",
       "      <td>10</td>\n",
       "    </tr>\n",
       "    <tr>\n",
       "      <th>7276</th>\n",
       "      <td>松江区</td>\n",
       "      <td>121.325059</td>\n",
       "      <td>31.161527</td>\n",
       "      <td>4</td>\n",
       "      <td>10</td>\n",
       "    </tr>\n",
       "    <tr>\n",
       "      <th>7277</th>\n",
       "      <td>松江区</td>\n",
       "      <td>121.325207</td>\n",
       "      <td>31.1612</td>\n",
       "      <td>5</td>\n",
       "      <td>10</td>\n",
       "    </tr>\n",
       "    <tr>\n",
       "      <th>...</th>\n",
       "      <td>...</td>\n",
       "      <td>...</td>\n",
       "      <td>...</td>\n",
       "      <td>...</td>\n",
       "      <td>...</td>\n",
       "    </tr>\n",
       "    <tr>\n",
       "      <th>8477</th>\n",
       "      <td>松江区</td>\n",
       "      <td>121.319455</td>\n",
       "      <td>31.157784</td>\n",
       "      <td>1205</td>\n",
       "      <td>10</td>\n",
       "    </tr>\n",
       "    <tr>\n",
       "      <th>8478</th>\n",
       "      <td>松江区</td>\n",
       "      <td>121.320799</td>\n",
       "      <td>31.158317</td>\n",
       "      <td>1206</td>\n",
       "      <td>10</td>\n",
       "    </tr>\n",
       "    <tr>\n",
       "      <th>8479</th>\n",
       "      <td>松江区</td>\n",
       "      <td>121.320927</td>\n",
       "      <td>31.158484</td>\n",
       "      <td>1207</td>\n",
       "      <td>10</td>\n",
       "    </tr>\n",
       "    <tr>\n",
       "      <th>8480</th>\n",
       "      <td>松江区</td>\n",
       "      <td>121.322491</td>\n",
       "      <td>31.162396</td>\n",
       "      <td>1208</td>\n",
       "      <td>10</td>\n",
       "    </tr>\n",
       "    <tr>\n",
       "      <th>8481</th>\n",
       "      <td>松江区</td>\n",
       "      <td>121.323858</td>\n",
       "      <td>31.162934</td>\n",
       "      <td>1209</td>\n",
       "      <td>10</td>\n",
       "    </tr>\n",
       "  </tbody>\n",
       "</table>\n",
       "<p>1209 rows × 5 columns</p>\n",
       "</div>"
      ],
      "text/plain": [
       "     name   Longitude   Latitude   Seq block\n",
       "7273  松江区  121.323858  31.162934     1    10\n",
       "7274  松江区  121.323866  31.162833     2    10\n",
       "7275  松江区  121.324346  31.162351     3    10\n",
       "7276  松江区  121.325059  31.161527     4    10\n",
       "7277  松江区  121.325207    31.1612     5    10\n",
       "...   ...         ...        ...   ...   ...\n",
       "8477  松江区  121.319455  31.157784  1205    10\n",
       "8478  松江区  121.320799  31.158317  1206    10\n",
       "8479  松江区  121.320927  31.158484  1207    10\n",
       "8480  松江区  121.322491  31.162396  1208    10\n",
       "8481  松江区  121.323858  31.162934  1209    10\n",
       "\n",
       "[1209 rows x 5 columns]"
      ]
     },
     "execution_count": 6,
     "metadata": {},
     "output_type": "execute_result"
    }
   ],
   "source": [
    "frame[frame.block == '10']"
   ]
  },
  {
   "cell_type": "code",
   "execution_count": 8,
   "metadata": {},
   "outputs": [],
   "source": [
    "frame.to_csv('data/shanghai_region_map_data.csv', encoding='utf-8')"
   ]
  },
  {
   "cell_type": "code",
   "execution_count": null,
   "metadata": {},
   "outputs": [],
   "source": []
  }
 ],
 "metadata": {
  "kernelspec": {
   "display_name": "Python 3",
   "language": "python",
   "name": "python3"
  },
  "language_info": {
   "codemirror_mode": {
    "name": "ipython",
    "version": 3
   },
   "file_extension": ".py",
   "mimetype": "text/x-python",
   "name": "python",
   "nbconvert_exporter": "python",
   "pygments_lexer": "ipython3",
   "version": "3.7.3"
  }
 },
 "nbformat": 4,
 "nbformat_minor": 2
}
